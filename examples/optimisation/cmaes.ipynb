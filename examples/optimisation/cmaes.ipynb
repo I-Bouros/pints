{
 "cells": [
  {
   "cell_type": "markdown",
   "metadata": {},
   "source": [
    "# Optimisation: CMA-ES\n",
    "\n",
    "This example shows you how to run a global optimisation with [CMA-ES](http://pints.readthedocs.io/en/latest/optimisers/cmaes.html).\n",
    "\n",
    "For a more elaborate example of an optimisation, see: [basic optimisation example](./first-example.ipynb)."
   ]
  },
  {
   "cell_type": "code",
   "execution_count": 1,
   "metadata": {},
   "outputs": [
    {
     "name": "stdout",
     "output_type": "stream",
     "text": [
      "Minimising error measure\n",
      "Using Covariance Matrix Adaptation Evolution Strategy (CMA-ES)\n",
      "Running in sequential mode.\n",
      "Population size: 6\n",
      "Iter. Eval. Best      Current   Time m:s\n",
      "0     6      1.1e+07   1.1e+07    0:00.0\n",
      "1     12     1327148   1327148    0:00.0\n",
      "2     18     1327148   2266532    0:00.0\n",
      "3     24     1256807   1256807    0:00.0\n",
      "20    126    1211437   1211745    0:00.0\n",
      "40    246    1211183   1211183    0:00.1\n",
      "60    366    1192883   1192883    0:00.1\n",
      "80    486    104348.6  141312.8   0:00.1\n",
      "100   606    101723    101728.6   0:00.1\n",
      "120   726    101719.5  101719.5   0:00.2\n",
      "140   846    101719.5  101719.5   0:00.2\n",
      "160   966    101719.5  101719.5   0:00.2\n",
      "180   1086   101719.5  101719.5   0:00.2\n",
      "200   1206   101719.5  101719.5   0:00.3\n",
      "220   1326   101719.5  101719.5   0:00.3\n",
      "240   1446   101719.5  101719.5   0:00.3\n",
      "260   1566   101719.5  101719.5   0:00.3\n",
      "280   1686   101719.5  101719.5   0:00.4\n",
      "300   1806   101719.5  101719.5   0:00.4\n",
      "320   1926   101719.5  101719.5   0:00.4\n",
      "340   2046   101719.5  101719.5   0:00.4\n",
      "360   2166   101719.5  101719.5   0:00.5\n",
      "380   2286   101719.5  101719.5   0:00.5\n",
      "400   2406   101719.5  101719.5   0:00.5\n",
      "420   2526   101719.5  101719.5   0:00.5\n",
      "440   2646   101719.5  101719.5   0:00.6\n",
      "460   2766   101719.5  101719.5   0:00.6\n",
      "467   2802   101719.5  101719.5   0:00.6\n",
      "Halting: No significant change for 200 iterations.\n",
      "Score at true solution: \n",
      "102208.81438349716\n",
      "Found solution:          True parameters:\n",
      " 1.50357426433418845e-02     1.49999999999999994e-02\n",
      " 4.99299520145392080e+02     5.00000000000000000e+02\n"
     ]
    },
    {
     "data": {
      "image/png": "[encoded data removed]",
      "text/plain": [
       "<Figure size 432x288 with 1 Axes>"
      ]
     },
     "metadata": {
      "needs_background": "light"
     },
     "output_type": "display_data"
    }
   ],
   "source": [
    "import pints\n",
    "import pints.toy as toy\n",
    "import numpy as np\n",
    "import matplotlib.pyplot as plt\n",
    "\n",
    "# Load a forward model\n",
    "model = toy.LogisticModel()\n",
    "\n",
    "# Create some toy data\n",
    "real_parameters = [0.015, 500]\n",
    "times = np.linspace(0, 1000, 1000)\n",
    "values = model.simulate(real_parameters, times)\n",
    "\n",
    "# Add noise\n",
    "values += np.random.normal(0, 10, values.shape)\n",
    "\n",
    "# Create an object with links to the model and time series\n",
    "problem = pints.SingleOutputProblem(model, times, values)\n",
    "\n",
    "# Select a score function\n",
    "score = pints.SumOfSquaresError(problem)\n",
    "\n",
    "# Select some boundaries\n",
    "boundaries = pints.RectangularBoundaries([0, 400], [0.03, 600])\n",
    "\n",
    "# Perform an optimization with boundaries and hints\n",
    "x0 = 0.01, 450\n",
    "sigma0 = [0.01, 100]\n",
    "found_parameters, found_value = pints.optimise(\n",
    "    score,\n",
    "    x0,\n",
    "    sigma0,\n",
    "    boundaries,\n",
    "    method=pints.CMAES\n",
    "    )\n",
    "\n",
    "# Show score of true solution\n",
    "print('Score at true solution: ')\n",
    "print(score(real_parameters))\n",
    "\n",
    "# Compare parameters with original\n",
    "print('Found solution:          True parameters:' )\n",
    "for k, x in enumerate(found_parameters):\n",
    "    print(pints.strfloat(x) + '    ' + pints.strfloat(real_parameters[k]))\n",
    "\n",
    "# Show quality of fit\n",
    "plt.figure()\n",
    "plt.xlabel('Time')\n",
    "plt.ylabel('Value')\n",
    "plt.plot(times, values, label='Nosiy data')\n",
    "plt.plot(times, problem.evaluate(found_parameters), label='Fit')\n",
    "plt.legend()\n",
    "plt.show()"
   ]
  }
 ],
 "metadata": {
  "kernelspec": {
   "display_name": "Python 3",
   "language": "python",
   "name": "python3"
  },
  "language_info": {
   "codemirror_mode": {
    "name": "ipython",
    "version": 3
   },
   "file_extension": ".py",
   "mimetype": "text/x-python",
   "name": "python",
   "nbconvert_exporter": "python",
   "pygments_lexer": "ipython3",
   "version": "3.9.7"
  }
 },
 "nbformat": 4,
 "nbformat_minor": 2
}
