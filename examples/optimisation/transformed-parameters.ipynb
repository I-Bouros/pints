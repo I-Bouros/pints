{
 "cells": [
  {
   "cell_type": "markdown",
   "metadata": {},
   "source": [
    "# Optimisation in a transformed parameter space\n",
    "\n",
    "This example shows you how to run an optimisation in a transformed parameter space, using a [pints.Transformation](https://pints.readthedocs.io/en/latest/transformations.html#pints.Transformation) object.\n",
    "\n",
    "Parameter transformations can often significantly improve the performance and robustness of an optimisation (see e.g. \\[1\\]).\n",
    "In addition, some methods have requirements (e.g. that all parameters are unconstrained, or that all parameters have similar magnitudes) that prevent them from being used on certain models in their untransformed form.\n",
    "\n",
    "\\[1\\]  Whittaker, DG, Clerx, M, Lei, CL, Christini, DJ, Mirams, GR. Calibration of ionic and cellular cardiac electrophysiology models. WIREs Syst Biol Med. 2020; 12:e1482. <https://doi.org/10.1002/wsbm.1482>"
   ]
  },
  {
   "cell_type": "markdown",
   "metadata": {},
   "source": [
    "We start by loading a ``pints.Forwardmodel`` implementation, in this case a [logistic model](https://pints.readthedocs.io/en/latest/toy/logistic_model.html)."
   ]
  },
  {
   "cell_type": "code",
   "execution_count": 1,
   "metadata": {},
   "outputs": [],
   "source": [
    "import matplotlib.pyplot as plt\n",
    "import numpy as np\n",
    "import pints\n",
    "import pints.toy as toy\n",
    "\n",
    "# Set some random seed so this notebook can be reproduced\n",
    "np.random.seed(10)\n",
    "\n",
    "# Load a logistic forward model\n",
    "model = toy.LogisticModel()"
   ]
  },
  {
   "cell_type": "markdown",
   "metadata": {},
   "source": [
    "We then define some parameters and set up the problem for the optimisation.\n",
    "The parameter vector for the toy logistic model is $\\theta_\\text{original} = [r, K]$, where $r$ is the _growth rate_ and $K$ is called the _carrying capacity_."
   ]
  },
  {
   "cell_type": "code",
   "execution_count": 2,
   "metadata": {},
   "outputs": [],
   "source": [
    "# Create some toy data\n",
    "real_parameters = [0.015, 400]  # [r, K]\n",
    "times = np.linspace(0, 1000, 1000)\n",
    "values = model.simulate(real_parameters, times)\n",
    "\n",
    "# Add noise\n",
    "values += np.random.normal(0, 10, values.shape)\n",
    "\n",
    "# Create an object with links to the model and time series\n",
    "problem = pints.SingleOutputProblem(model, times, values)\n",
    "\n",
    "# Select a score function\n",
    "score = pints.SumOfSquaresError(problem)"
   ]
  },
  {
   "cell_type": "markdown",
   "metadata": {},
   "source": [
    "In this example, we will pick some difficult starting points for the optimisation:"
   ]
  },
  {
   "cell_type": "code",
   "execution_count": 3,
   "metadata": {},
   "outputs": [],
   "source": [
    "x0 = [0.5, 0.1]  # [r, K]\n",
    "sigma0 = [0.01, 2.0]"
   ]
  },
  {
   "cell_type": "markdown",
   "metadata": {},
   "source": [
    "Now we run a Nelder-Mead optimisation without doing any parameter transformation to check its performance."
   ]
  },
  {
   "cell_type": "code",
   "execution_count": 4,
   "metadata": {},
   "outputs": [
    {
     "name": "stdout",
     "output_type": "stream",
     "text": [
      "Minimising error measure\n",
      "Using Nelder-Mead\n",
      "Running in sequential mode.\n",
      "Iter. Eval. Best      Current   Time m:s\n",
      "0     3      9.27e+07  9.27e+07   0:00.0\n",
      "1     4      9.27e+07  9.27e+07   0:00.0\n",
      "2     5      9.27e+07  9.27e+07   0:00.0\n",
      "3     6      9.27e+07  9.27e+07   0:00.0\n",
      "20    23     9.26e+07  9.26e+07   0:00.0\n",
      "40    43     9.25e+07  9.25e+07   0:00.0\n",
      "60    63     7.7e+07   7.7e+07    0:00.0\n",
      "80    83     2.58e+07  2.58e+07   0:00.0\n",
      "100   103    2.58e+07  2.58e+07   0:00.0\n",
      "120   123    2.58e+07  2.58e+07   0:00.0\n",
      "140   143    2.58e+07  2.58e+07   0:00.0\n",
      "160   167    2.58e+07  2.58e+07   0:00.0\n",
      "180   192    2.58e+07  2.58e+07   0:00.0\n",
      "200   217    2.58e+07  2.58e+07   0:00.0\n",
      "220   242    2.58e+07  2.58e+07   0:00.0\n",
      "240   269    2.58e+07  2.58e+07   0:00.0\n",
      "260   295    2.58e+07  2.58e+07   0:00.0\n",
      "280   322    2.58e+07  2.58e+07   0:00.0\n",
      "300   349    2.58e+07  2.58e+07   0:00.0\n",
      "320   375    2.58e+07  2.58e+07   0:00.0\n",
      "340   402    2.58e+07  2.58e+07   0:00.0\n",
      "360   429    2.58e+07  2.58e+07   0:00.0\n",
      "371   442    2.58e+07  2.58e+07   0:00.0\n",
      "Halting: No significant change for 200 iterations.\n",
      "Score at true solution: \n",
      "87997.66499248528\n",
      "Found solution:          True parameters:\n",
      " 1.14854472655286514e+02     1.49999999999999994e-02\n",
      " 2.58753303543239497e+02     4.00000000000000000e+02\n"
     ]
    },
    {
     "data": {
      "image/png": "[encoded data removed]",
      "text/plain": [
       "<Figure size 432x288 with 1 Axes>"
      ]
     },
     "metadata": {
      "needs_background": "light"
     },
     "output_type": "display_data"
    }
   ],
   "source": [
    "found_parameters, found_value = pints.optimise(\n",
    "    score,\n",
    "    x0,\n",
    "    sigma0,\n",
    "    method=pints.NelderMead,\n",
    "    transformation=None,\n",
    ")\n",
    "\n",
    "# Show score of true solution\n",
    "print('Score at true solution: ')\n",
    "print(score(real_parameters))\n",
    "\n",
    "# Compare parameters with original\n",
    "print('Found solution:          True parameters:' )\n",
    "for k, x in enumerate(found_parameters):\n",
    "    print(pints.strfloat(x) + '    ' + pints.strfloat(real_parameters[k]))\n",
    "\n",
    "# Show quality of fit\n",
    "plt.figure()\n",
    "plt.xlabel('Time')\n",
    "plt.ylabel('Value')\n",
    "plt.plot(times, values, alpha=0.25, label='Nosiy data')\n",
    "plt.plot(times, problem.evaluate(found_parameters), label='Fit without transformation')\n",
    "plt.legend()\n",
    "plt.show()"
   ]
  },
  {
   "cell_type": "markdown",
   "metadata": {},
   "source": [
    "As we can see, the optimiser made some initial improvements, but then got stuck somewhere in $[r, K]$ space, and failed to converge to the true parameters.\n",
    "\n",
    "We can improve its performance by defining a parameter transformation so that it searches in $\\theta = [r, \\log(K)]$ space instead.\n",
    "To do this, we'll create a [pints.Transformation](https://pints.readthedocs.io/en/latest/transformations.html#pints.Transformation) object, that leaves $r$ alone, but applies a log-transformation to $K$.\n",
    "This is implemented by defining an ``IdentifyTransformation`` for $r$, a ``LogTransformation`` for $K$, and then creating a ``ComposedTransformation`` for the full parameter vector $\\theta$:"
   ]
  },
  {
   "cell_type": "code",
   "execution_count": 5,
   "metadata": {},
   "outputs": [],
   "source": [
    "# No transformation: [r] -> [r]\n",
    "transform_r = pints.IdentityTransformation(n_parameters=1)\n",
    "# Log-transformation: [K] -> [log(K)]\n",
    "transform_K = pints.LogTransformation(n_parameters=1)\n",
    "\n",
    "# The full transformation: [r, K] -> [r, log(K)]\n",
    "transformation = pints.ComposedTransformation(transform_r, transform_K)"
   ]
  },
  {
   "cell_type": "markdown",
   "metadata": {},
   "source": [
    "The resulting ``Transformation`` object can be passed in the ``optimise`` method, as shown below, but can also be used in combination with ``Controller`` classes such as the [pints.OptimisationController](https://pints.readthedocs.io/en/latest/optimisers/running.html#pints.OptimisationController) or [pints.MCMCController](https://pints.readthedocs.io/en/latest/mcmc_samplers/running.html#pints.MCMCController)."
   ]
  },
  {
   "cell_type": "code",
   "execution_count": 6,
   "metadata": {},
   "outputs": [
    {
     "name": "stdout",
     "output_type": "stream",
     "text": [
      "Minimising error measure\n",
      "Using Nelder-Mead\n",
      "Running in sequential mode.\n",
      "Iter. Eval. Best      Current   Time m:s\n",
      "0     3      9.27e+07  9.27e+07   0:00.0\n",
      "1     4      9.27e+07  9.27e+07   0:00.0\n",
      "2     5      9.27e+07  9.27e+07   0:00.0\n",
      "3     6      9.26e+07  9.26e+07   0:00.0\n",
      "20    23     2.78e+07  2.78e+07   0:00.0\n",
      "40    43     2.54e+07  2.54e+07   0:00.0\n",
      "60    63     1.84e+07  1.84e+07   0:00.0\n",
      "80    83     9615881   9615881    0:00.0\n",
      "100   103    126525.8  126525.8   0:00.0\n",
      "120   123    87941.33  87941.33   0:00.0\n",
      "140   143    87740.45  87740.45   0:00.0\n",
      "160   163    87740.34  87740.34   0:00.0\n",
      "180   183    87740.34  87740.34   0:00.0\n",
      "200   203    87740.34  87740.34   0:00.0\n",
      "220   223    87740.34  87740.34   0:00.0\n",
      "240   248    87740.34  87740.34   0:00.0\n",
      "260   272    87740.34  87740.34   0:00.0\n",
      "280   297    87740.34  87740.34   0:00.0\n",
      "300   323    87740.34  87740.34   0:00.0\n",
      "320   350    87740.34  87740.34   0:00.0\n",
      "340   377    87740.34  87740.34   0:00.0\n",
      "360   403    87740.34  87740.34   0:00.0\n",
      "380   430    87740.34  87740.34   0:00.0\n",
      "400   457    87740.34  87740.34   0:00.0\n",
      "420   483    87740.34  87740.34   0:00.0\n",
      "440   510    87740.34  87740.34   0:00.0\n",
      "460   537    87740.34  87740.34   0:00.1\n",
      "480   563    87740.34  87740.34   0:00.1\n",
      "483   566    87740.34  87740.34   0:00.1\n",
      "Halting: No significant change for 200 iterations.\n",
      "Score at true solution: \n",
      "87997.66499248528\n",
      "Found solution:          True parameters:\n",
      " 1.50182556513116829e-02     1.49999999999999994e-02\n",
      " 3.99257874928702677e+02     4.00000000000000000e+02\n"
     ]
    },
    {
     "data": {
      "image/png": "[encoded data removed]",
      "text/plain": [
       "<Figure size 432x288 with 1 Axes>"
      ]
     },
     "metadata": {
      "needs_background": "light"
     },
     "output_type": "display_data"
    }
   ],
   "source": [
    "found_parameters_trans, found_value_trans = pints.optimise(\n",
    "    score,\n",
    "    x0,\n",
    "    sigma0,\n",
    "    method=pints.NelderMead,\n",
    "    transformation=transformation,  # Pass the transformation to the optimiser\n",
    ")\n",
    "\n",
    "# Show score of true solution\n",
    "print('Score at true solution: ')\n",
    "print(score(real_parameters))\n",
    "\n",
    "# Compare parameters with original\n",
    "print('Found solution:          True parameters:' )\n",
    "for k, x in enumerate(found_parameters_trans):\n",
    "    print(pints.strfloat(x) + '    ' + pints.strfloat(real_parameters[k]))\n",
    "\n",
    "# Show quality of fit\n",
    "plt.figure()\n",
    "plt.xlabel('Time')\n",
    "plt.ylabel('Value')\n",
    "plt.plot(times, values, alpha=0.25, label='Nosiy data')\n",
    "plt.plot(times, problem.evaluate(found_parameters), label='Fit without transformation')\n",
    "plt.plot(times, problem.evaluate(found_parameters_trans), label='Fit with transformation')\n",
    "plt.legend()\n",
    "plt.show()"
   ]
  }
 ],
 "metadata": {
  "kernelspec": {
   "display_name": "Python 3",
   "language": "python",
   "name": "python3"
  },
  "language_info": {
   "codemirror_mode": {
    "name": "ipython",
    "version": 3
   },
   "file_extension": ".py",
   "mimetype": "text/x-python",
   "name": "python",
   "nbconvert_exporter": "python",
   "pygments_lexer": "ipython3",
   "version": "3.9.7"
  }
 },
 "nbformat": 4,
 "nbformat_minor": 2
}
