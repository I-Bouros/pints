{
 "cells": [
  {
   "cell_type": "markdown",
   "metadata": {},
   "source": [
    "# Optimisation: SNES\n",
    "\n",
    "This example shows you how to run a global optimisation with [SNES](http://pints.readthedocs.io/en/latest/optimisers/snes.html).\n",
    "\n",
    "For a more elaborate example of an optimisation, see: [basic optimisation example](./first-example.ipynb)."
   ]
  },
  {
   "cell_type": "code",
   "execution_count": 1,
   "metadata": {},
   "outputs": [
    {
     "name": "stdout",
     "output_type": "stream",
     "text": [
      "Minimising error measure\n",
      "Using Seperable Natural Evolution Strategy (SNES)\n",
      "Running in sequential mode.\n",
      "Population size: 6\n",
      "Iter. Eval. Best      Current   Time m:s\n",
      "0     6      649025    649025     0:00.0\n",
      "1     12     649025    5100664    0:00.0\n",
      "2     18     649025    8272897    0:00.0\n",
      "3     24     649025    941819.6   0:00.0\n",
      "20    126    365847.3  4296584    0:00.0\n",
      "40    246    212134.4  1210845    0:00.0\n",
      "60    366    100512.2  230519.1   0:00.0\n",
      "80    486    100512.2  249327.1   0:00.0\n",
      "100   606    98990.19  99775.47   0:00.0\n",
      "120   726    98797.5   98800.11   0:00.0\n",
      "140   846    98796.14  98796.14   0:00.0\n",
      "160   966    98796.13  98796.13   0:00.1\n",
      "180   1086   98796.13  98796.13   0:00.1\n",
      "200   1206   98796.13  98796.13   0:00.1\n",
      "220   1326   98796.13  98796.13   0:00.1\n",
      "240   1446   98796.13  98796.13   0:00.1\n",
      "260   1566   98796.13  98796.13   0:00.1\n",
      "280   1686   98796.13  98796.13   0:00.1\n",
      "300   1806   98796.13  98796.13   0:00.1\n",
      "320   1926   98796.13  98796.13   0:00.1\n",
      "340   2046   98796.13  98796.13   0:00.1\n",
      "360   2166   98796.13  98796.13   0:00.1\n",
      "380   2286   98796.13  98796.13   0:00.1\n",
      "400   2406   98796.13  98796.13   0:00.1\n",
      "420   2526   98796.13  98796.13   0:00.1\n",
      "440   2646   98796.13  98796.13   0:00.1\n",
      "445   2670   98796.13  98796.13   0:00.1\n",
      "Halting: No significant change for 200 iterations.\n",
      "Score at true solution: \n",
      "99118.9703519325\n",
      "Found solution:          True parameters:\n",
      " 1.50087644813135315e-02     1.49999999999999994e-02\n",
      " 5.00673872447571341e+02     5.00000000000000000e+02\n"
     ]
    },
    {
     "data": {
      "image/png": "[encoded data removed]",
      "text/plain": [
       "<Figure size 432x288 with 1 Axes>"
      ]
     },
     "metadata": {
      "needs_background": "light"
     },
     "output_type": "display_data"
    }
   ],
   "source": [
    "import pints\n",
    "import pints.toy as toy\n",
    "import numpy as np\n",
    "import matplotlib.pyplot as plt\n",
    "\n",
    "# Load a forward model\n",
    "model = toy.LogisticModel()\n",
    "\n",
    "# Create some toy data\n",
    "real_parameters = [0.015, 500]\n",
    "times = np.linspace(0, 1000, 1000)\n",
    "values = model.simulate(real_parameters, times)\n",
    "\n",
    "# Add noise\n",
    "values += np.random.normal(0, 10, values.shape)\n",
    "\n",
    "# Create an object with links to the model and time series\n",
    "problem = pints.SingleOutputProblem(model, times, values)\n",
    "\n",
    "# Select a score function\n",
    "score = pints.SumOfSquaresError(problem)\n",
    "\n",
    "# Select some boundaries\n",
    "boundaries = pints.RectangularBoundaries([0, 400], [0.03, 600])\n",
    "\n",
    "# Perform an optimization with boundaries and hints\n",
    "x0 = 0.01, 450\n",
    "sigma0 = [0.01, 100]\n",
    "found_parameters, found_value = pints.optimise(\n",
    "    score,\n",
    "    x0,\n",
    "    sigma0,\n",
    "    boundaries,\n",
    "    method=pints.SNES,\n",
    ")\n",
    "\n",
    "# Show score of true solution\n",
    "print('Score at true solution: ')\n",
    "print(score(real_parameters))\n",
    "\n",
    "# Compare parameters with original\n",
    "print('Found solution:          True parameters:' )\n",
    "for k, x in enumerate(found_parameters):\n",
    "    print(pints.strfloat(x) + '    ' + pints.strfloat(real_parameters[k]))\n",
    "\n",
    "# Show quality of fit\n",
    "plt.figure()\n",
    "plt.xlabel('Time')\n",
    "plt.ylabel('Value')\n",
    "plt.plot(times, values, label='Nosiy data')\n",
    "plt.plot(times, problem.evaluate(found_parameters), label='Fit')\n",
    "plt.legend()\n",
    "plt.show()"
   ]
  }
 ],
 "metadata": {
  "kernelspec": {
   "display_name": "Python 3",
   "language": "python",
   "name": "python3"
  },
  "language_info": {
   "codemirror_mode": {
    "name": "ipython",
    "version": 3
   },
   "file_extension": ".py",
   "mimetype": "text/x-python",
   "name": "python",
   "nbconvert_exporter": "python",
   "pygments_lexer": "ipython3",
   "version": "3.9.7"
  }
 },
 "nbformat": 4,
 "nbformat_minor": 2
}
